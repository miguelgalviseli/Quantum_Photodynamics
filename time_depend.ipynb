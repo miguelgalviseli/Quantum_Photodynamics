{
 "cells": [
  {
   "cell_type": "code",
   "execution_count": 12,
   "metadata": {},
   "outputs": [],
   "source": [
    "from qutip import *\n",
    "import numpy as np\n",
    "import matplotlib.pyplot as plt\n",
    "from ipywidgets import interact\n"
   ]
  },
  {
   "cell_type": "code",
   "execution_count": 5,
   "metadata": {},
   "outputs": [],
   "source": [
    "ustate = basis(3, 0)\n",
    "excited = basis(3, 1)\n",
    "ground = basis(3, 2)\n",
    "\n",
    "N = 2 # Set where to truncate Fock state for cavity\n",
    "sigma_ge = tensor(qeye(N), ground * excited.dag())  # |g><e|\n",
    "sigma_ue = tensor(qeye(N), ustate * excited.dag())  # |u><e|\n",
    "a = tensor(destroy(N), qeye(3))\n",
    "ada = tensor(num(N), qeye(3))\n",
    "\n",
    "c_ops = []  # Build collapse operators\n",
    "kappa = 1.5 # Cavity decay rate\n",
    "c_ops.append(np.sqrt(kappa) * a)\n",
    "gamma = 6  # Atomic decay rate\n",
    "c_ops.append(np.sqrt(5*gamma/9) * sigma_ue) # Use Rb branching ratio of 5/9 e->u\n",
    "c_ops.append(np.sqrt(4*gamma/9) * sigma_ge) # 4/9 e->g\n",
    "\n",
    "t = np.linspace(-15, 15, 100) # Define time vector\n",
    "psi0 = tensor(basis(N, 0), ustate) # Define initial state\n",
    "\n",
    "state_GG = tensor(basis(N, 1), ground) # Define states onto which to project\n",
    "sigma_GG = state_GG * state_GG.dag()\n",
    "state_UU = tensor(basis(N, 0), ustate)\n",
    "sigma_UU = state_UU * state_UU.dag()\n",
    "\n",
    "g = 5  # coupling strength\n",
    "H0 = -g * (sigma_ge.dag() * a + a.dag() * sigma_ge)  # time-independent term\n",
    "H1 = (sigma_ue.dag() + sigma_ue)  # time-dependent term"
   ]
  },
  {
   "cell_type": "code",
   "execution_count": 6,
   "metadata": {},
   "outputs": [],
   "source": [
    "def H1_coeff(t, args):\n",
    "    return 9 * np.exp(-(t / 5.) ** 2)"
   ]
  },
  {
   "cell_type": "code",
   "execution_count": 7,
   "metadata": {},
   "outputs": [],
   "source": [
    "H = [H0,[H1, H1_coeff]]\n",
    "output = mesolve(H, psi0, t, c_ops, [ada, sigma_UU, sigma_GG])"
   ]
  },
  {
   "cell_type": "code",
   "execution_count": 8,
   "metadata": {},
   "outputs": [
    {
     "name": "stdout",
     "output_type": "stream",
     "text": [
      "10.0%. Run time:   0.16s. Est. time left: 00:00:00:01\n",
      "20.0%. Run time:   0.28s. Est. time left: 00:00:00:01\n",
      "30.0%. Run time:   0.39s. Est. time left: 00:00:00:00\n",
      "40.0%. Run time:   0.51s. Est. time left: 00:00:00:00\n",
      "50.0%. Run time:   0.63s. Est. time left: 00:00:00:00\n",
      "60.0%. Run time:   0.74s. Est. time left: 00:00:00:00\n",
      "70.0%. Run time:   0.84s. Est. time left: 00:00:00:00\n",
      "80.0%. Run time:   0.96s. Est. time left: 00:00:00:00\n",
      "90.0%. Run time:   1.05s. Est. time left: 00:00:00:00\n",
      "100.0%. Run time:   1.14s. Est. time left: 00:00:00:00\n",
      "Total run time:   1.15s\n"
     ]
    }
   ],
   "source": [
    "output = mcsolve(H, psi0, t, c_ops, [ada, sigma_UU, sigma_GG])"
   ]
  },
  {
   "cell_type": "code",
   "execution_count": 9,
   "metadata": {},
   "outputs": [],
   "source": [
    "kappa = 0.5\n",
    "\n",
    "def col_coeff(t, args):  # coefficient function\n",
    "    return np.sqrt(kappa * np.exp(-t))\n",
    "\n",
    "N = 10  # number of basis states\n",
    "a = destroy(N)\n",
    "H = a.dag() * a  # simple HO\n",
    "psi0 = basis(N, 9)  # initial state\n",
    "c_ops = [[a, col_coeff]]  # time-dependent collapse term\n",
    "times = np.linspace(0, 10, 100)\n",
    "output = mesolve(H, psi0, times, c_ops, [a.dag() * a])"
   ]
  },
  {
   "cell_type": "code",
   "execution_count": 11,
   "metadata": {},
   "outputs": [],
   "source": [
    "def H1_coeff(t, args):\n",
    "      A = args['A']\n",
    "      sig = args['sigma']\n",
    "      return A * np.exp(-(t / sig) ** 2)\n"
   ]
  },
  {
   "cell_type": "code",
   "execution_count": null,
   "metadata": {},
   "outputs": [],
   "source": []
  },
  {
   "cell_type": "code",
   "execution_count": null,
   "metadata": {},
   "outputs": [],
   "source": []
  },
  {
   "cell_type": "code",
   "execution_count": null,
   "metadata": {},
   "outputs": [],
   "source": []
  },
  {
   "cell_type": "code",
   "execution_count": null,
   "metadata": {},
   "outputs": [],
   "source": []
  },
  {
   "cell_type": "code",
   "execution_count": null,
   "metadata": {},
   "outputs": [],
   "source": []
  }
 ],
 "metadata": {
  "kernelspec": {
   "display_name": "Python 3",
   "language": "python",
   "name": "python3"
  },
  "language_info": {
   "codemirror_mode": {
    "name": "ipython",
    "version": 3
   },
   "file_extension": ".py",
   "mimetype": "text/x-python",
   "name": "python",
   "nbconvert_exporter": "python",
   "pygments_lexer": "ipython3",
   "version": "3.10.12"
  },
  "orig_nbformat": 4
 },
 "nbformat": 4,
 "nbformat_minor": 2
}
